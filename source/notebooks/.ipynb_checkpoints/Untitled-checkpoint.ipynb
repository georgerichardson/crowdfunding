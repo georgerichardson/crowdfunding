{
 "cells": [
  {
   "cell_type": "code",
   "execution_count": 106,
   "metadata": {},
   "outputs": [],
   "source": [
    "from babel.numbers import parse_decimal, parse_number\n",
    "import re\n",
    "from datetime import datetime, timedelta\n",
    "from dateutil.relativedelta import relativedelta"
   ]
  },
  {
   "cell_type": "code",
   "execution_count": 118,
   "metadata": {},
   "outputs": [],
   "source": [
    "c = \"This donations is for Richard Bwambale to receive a phone upon Arlo's visit in May 6 months ago\""
   ]
  },
  {
   "cell_type": "code",
   "execution_count": 125,
   "metadata": {},
   "outputs": [],
   "source": [
    "def parse_relative_date(string):\n",
    "    for t in ['day', 'month', 'year']:\n",
    "        s = re.search('(\\d+)( {})'.format(t), string)\n",
    "        if s:\n",
    "            duration = int(f.groups()[0])\n",
    "            if t == 'month':\n",
    "                return datetime.now() - relativedelta(months=duration)\n",
    "            elif t == 'year':\n",
    "                return datetime.now() - relativedelta(years=duration)\n",
    "            else:\n",
    "                return datetime.now() - relativedelta(days=duration)"
   ]
  },
  {
   "cell_type": "code",
   "execution_count": 127,
   "metadata": {},
   "outputs": [],
   "source": [
    "import pandas as pd"
   ]
  },
  {
   "cell_type": "code",
   "execution_count": 130,
   "metadata": {},
   "outputs": [],
   "source": [
    "df = pd.read_csv('../test.csv')"
   ]
  },
  {
   "cell_type": "code",
   "execution_count": 137,
   "metadata": {},
   "outputs": [
    {
     "data": {
      "text/html": [
       "<div>\n",
       "<style>\n",
       "    .dataframe thead tr:only-child th {\n",
       "        text-align: right;\n",
       "    }\n",
       "\n",
       "    .dataframe thead th {\n",
       "        text-align: left;\n",
       "    }\n",
       "\n",
       "    .dataframe tbody tr th {\n",
       "        vertical-align: top;\n",
       "    }\n",
       "</style>\n",
       "<table border=\"1\" class=\"dataframe\">\n",
       "  <thead>\n",
       "    <tr style=\"text-align: right;\">\n",
       "      <th></th>\n",
       "      <th>amount_goal</th>\n",
       "      <th>amount_raised</th>\n",
       "      <th>beneficiary</th>\n",
       "      <th>beneficiary_url</th>\n",
       "      <th>created_at</th>\n",
       "      <th>description</th>\n",
       "      <th>page_type</th>\n",
       "      <th>title</th>\n",
       "      <th>url</th>\n",
       "    </tr>\n",
       "  </thead>\n",
       "  <tbody>\n",
       "    <tr>\n",
       "      <th>0</th>\n",
       "      <td>0</td>\n",
       "      <td>125</td>\n",
       "      <td>Maya's Hope Foundation Inc</td>\n",
       "      <td>/mayashope</td>\n",
       "      <td>2016-11-21 16:34:58.159936</td>\n",
       "      <td>Solnishko Baby Orphanage is home to over 280 c...</td>\n",
       "      <td>individual</td>\n",
       "      <td>Provide Formula and Medications to the Baby Or...</td>\n",
       "      <td>https://www.crowdrise.com/provide-formula-and-...</td>\n",
       "    </tr>\n",
       "    <tr>\n",
       "      <th>1</th>\n",
       "      <td>0</td>\n",
       "      <td>222</td>\n",
       "      <td>Maya's Hope Foundation Inc</td>\n",
       "      <td>/mayashope</td>\n",
       "      <td>2016-12-21 16:35:02.415538</td>\n",
       "      <td>NaN</td>\n",
       "      <td>individual</td>\n",
       "      <td>Strollers for a Baby Orphanage in Ukraine</td>\n",
       "      <td>https://www.crowdrise.com/strollers-for-a-baby...</td>\n",
       "    </tr>\n",
       "    <tr>\n",
       "      <th>2</th>\n",
       "      <td>0</td>\n",
       "      <td>0</td>\n",
       "      <td>TASHIRAT FOUNDATION</td>\n",
       "      <td>/tashiratfoundation</td>\n",
       "      <td>NaN</td>\n",
       "      <td>We have been taken under the wing of a Directo...</td>\n",
       "      <td>individual</td>\n",
       "      <td>Montessori Materials Needed for Tashirat Orpha...</td>\n",
       "      <td>https://www.crowdrise.com/montessori-materials...</td>\n",
       "    </tr>\n",
       "    <tr>\n",
       "      <th>3</th>\n",
       "      <td>0</td>\n",
       "      <td>10565</td>\n",
       "      <td>PROJECT LEFT BEHIND</td>\n",
       "      <td>/projectleftbehind</td>\n",
       "      <td>2017-04-21 16:35:09.196034</td>\n",
       "      <td>In early 2016  Project Left Behind  (PLB) was ...</td>\n",
       "      <td>individual</td>\n",
       "      <td>ESCAPE to Peru 2017 - Orphanage volunteer trip</td>\n",
       "      <td>https://www.crowdrise.com/escape-to-peru-2017-...</td>\n",
       "    </tr>\n",
       "    <tr>\n",
       "      <th>4</th>\n",
       "      <td>0</td>\n",
       "      <td>1473</td>\n",
       "      <td>Maya's Hope Foundation Inc</td>\n",
       "      <td>/mayashope</td>\n",
       "      <td>2017-08-21 16:35:13.017543</td>\n",
       "      <td>Solnishko Baby Orphanage is home to over 200 c...</td>\n",
       "      <td>individual</td>\n",
       "      <td>Diapers and Hygiene Essentials for a Baby Orph...</td>\n",
       "      <td>https://www.crowdrise.com/diapers-and-hygiene-...</td>\n",
       "    </tr>\n",
       "  </tbody>\n",
       "</table>\n",
       "</div>"
      ],
      "text/plain": [
       "   amount_goal  amount_raised                 beneficiary  \\\n",
       "0            0            125  Maya's Hope Foundation Inc   \n",
       "1            0            222  Maya's Hope Foundation Inc   \n",
       "2            0              0         TASHIRAT FOUNDATION   \n",
       "3            0          10565         PROJECT LEFT BEHIND   \n",
       "4            0           1473  Maya's Hope Foundation Inc   \n",
       "\n",
       "       beneficiary_url                  created_at  \\\n",
       "0           /mayashope  2016-11-21 16:34:58.159936   \n",
       "1           /mayashope  2016-12-21 16:35:02.415538   \n",
       "2  /tashiratfoundation                         NaN   \n",
       "3   /projectleftbehind  2017-04-21 16:35:09.196034   \n",
       "4           /mayashope  2017-08-21 16:35:13.017543   \n",
       "\n",
       "                                         description   page_type  \\\n",
       "0  Solnishko Baby Orphanage is home to over 280 c...  individual   \n",
       "1                                                NaN  individual   \n",
       "2  We have been taken under the wing of a Directo...  individual   \n",
       "3  In early 2016  Project Left Behind  (PLB) was ...  individual   \n",
       "4  Solnishko Baby Orphanage is home to over 200 c...  individual   \n",
       "\n",
       "                                               title  \\\n",
       "0  Provide Formula and Medications to the Baby Or...   \n",
       "1          Strollers for a Baby Orphanage in Ukraine   \n",
       "2  Montessori Materials Needed for Tashirat Orpha...   \n",
       "3     ESCAPE to Peru 2017 - Orphanage volunteer trip   \n",
       "4  Diapers and Hygiene Essentials for a Baby Orph...   \n",
       "\n",
       "                                                 url  \n",
       "0  https://www.crowdrise.com/provide-formula-and-...  \n",
       "1  https://www.crowdrise.com/strollers-for-a-baby...  \n",
       "2  https://www.crowdrise.com/montessori-materials...  \n",
       "3  https://www.crowdrise.com/escape-to-peru-2017-...  \n",
       "4  https://www.crowdrise.com/diapers-and-hygiene-...  "
      ]
     },
     "execution_count": 137,
     "metadata": {},
     "output_type": "execute_result"
    }
   ],
   "source": [
    "df.head()"
   ]
  },
  {
   "cell_type": "code",
   "execution_count": 138,
   "metadata": {},
   "outputs": [
    {
     "data": {
      "text/plain": [
       "'https://www.crowdrise.com/montessori-materials-needed-for-tashirat-orphanage/fundraiser/tashiratfoundation'"
      ]
     },
     "execution_count": 138,
     "metadata": {},
     "output_type": "execute_result"
    }
   ],
   "source": [
    "df.iloc[2]['url']"
   ]
  },
  {
   "cell_type": "code",
   "execution_count": null,
   "metadata": {},
   "outputs": [],
   "source": []
  }
 ],
 "metadata": {
  "kernelspec": {
   "display_name": "Python 3",
   "language": "python",
   "name": "python3"
  },
  "language_info": {
   "codemirror_mode": {
    "name": "ipython",
    "version": 3
   },
   "file_extension": ".py",
   "mimetype": "text/x-python",
   "name": "python",
   "nbconvert_exporter": "python",
   "pygments_lexer": "ipython3",
   "version": "3.6.2"
  }
 },
 "nbformat": 4,
 "nbformat_minor": 2
}
